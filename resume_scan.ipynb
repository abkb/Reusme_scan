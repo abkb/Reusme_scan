{
 "cells": [
  {
   "cell_type": "code",
   "execution_count": 6,
   "id": "0111eeb0-a8a4-4ac4-b304-2154e69a09ac",
   "metadata": {},
   "outputs": [],
   "source": [
    "import docx2txt"
   ]
  },
  {
   "cell_type": "code",
   "execution_count": 7,
   "id": "c8183972-13d0-4081-95fc-dde6fb404b9b",
   "metadata": {},
   "outputs": [],
   "source": [
    "job_dx= docx2txt.process ('job_dex.docx')\n",
    "resume= docx2txt.process ('Kb_res_scann.docx')"
   ]
  },
  {
   "cell_type": "code",
   "execution_count": 16,
   "id": "638ad8e9-dd62-46d3-b37e-e0b8b1c071fb",
   "metadata": {},
   "outputs": [
    {
     "name": "stdout",
     "output_type": "stream",
     "text": [
      "ob Description\n",
      "\n",
      "\n",
      "\n",
      "Manufacturing, Supply Chain and Operations Automation is seeking a Data Scientist to develop advanced analytic capabilities to support Intel's semiconductor manufacturing. The scope includes creating machine learning and analytic models and APIs to drive analytic discovery, and monitoring applications. The candidate will create predictive models to track factory performance (cycle time, throughput, product outcomes and yields) by analyzing historical data from such sources as parametric, image and equipment or factory signals data. The candidate will be expected to apply analytic and software solutions in a fast-paced and complex business environment and be able to communicate complex technical analysis to both senior technical and also non-technical staff.\n",
      "\n",
      "\n",
      "\n",
      "Qualifications\n",
      "\n",
      "\n",
      "\n",
      "Minimum qualifications are required to be initially considered for this position. Preferred qualifications are in addition to the minimum requirements and are considered a plus factor in identifying top candidates.\n",
      "\n",
      "\n",
      "\n",
      "Minimum Qualifications\n",
      "\n",
      "\n",
      "\n",
      "Master's degree in Electrical Engineering, Computer Science, Statistics, Mathematics, Physics, or equivalent quantitative field with a focus on Data Analytics and Machine learning.\n",
      "\n",
      "\n",
      "\n",
      "2+ years experience with:\n",
      "\n",
      "\n",
      "\n",
      "Analytic programming languages such as Python, R or SAS.\n",
      "\n",
      "Data mining and statistics as it relates to data analysis.\n",
      "\n",
      "Data munging, and reporting/visualization skills.\n",
      "\n",
      "\n",
      "\n",
      "Preferred Qualifications\n",
      "\n",
      "\n",
      "\n",
      "2+ years experience with:\n",
      "\n",
      "\n",
      "\n",
      "Relational databases (SQL) and no-SQL databases.\n",
      "\n",
      "High-Dimension data analysis, factorization techniques and MDS.\n",
      "\n",
      "Machine learning models including probability and statistical models in addition to time series analysis.\n",
      "\n",
      "Applying modern ML techniques such as support vector machines, categorical and regression trees, neural networks and recommendation systems.\n"
     ]
    }
   ],
   "source": [
    "print(job_dx)"
   ]
  },
  {
   "cell_type": "code",
   "execution_count": 8,
   "id": "56e41531-39cf-483b-b7c1-acafdfae4da7",
   "metadata": {},
   "outputs": [],
   "source": [
    "content= [job_dx, resume]\n"
   ]
  },
  {
   "cell_type": "code",
   "execution_count": 9,
   "id": "a6b325a8-602d-4b3b-bc2c-0994bac35cdd",
   "metadata": {},
   "outputs": [],
   "source": [
    "from sklearn.feature_extraction.text import CountVectorizer\n",
    "cv=CountVectorizer()\n",
    "matrix= cv.fit_transform(content)\n"
   ]
  },
  {
   "cell_type": "code",
   "execution_count": 24,
   "id": "d2dc6087-12fa-4f8a-a0fd-8487f47a05f9",
   "metadata": {},
   "outputs": [
    {
     "name": "stdout",
     "output_type": "stream",
     "text": [
      "Resume match:  56.00000000000001%\n"
     ]
    }
   ],
   "source": [
    "from sklearn.metrics.pairwise import cosine_similarity\n",
    "similarity_mtx= cosine_similarity(matrix).round(2)\n",
    "\n",
    "print('Resume match:  ' + str(similarity_mtx[1][0]*100)+ '%')"
   ]
  },
  {
   "cell_type": "code",
   "execution_count": null,
   "id": "594c1fa6-755f-4d48-b15b-ec7a44459809",
   "metadata": {},
   "outputs": [],
   "source": []
  }
 ],
 "metadata": {
  "kernelspec": {
   "display_name": "Python 3 (ipykernel)",
   "language": "python",
   "name": "python3"
  },
  "language_info": {
   "codemirror_mode": {
    "name": "ipython",
    "version": 3
   },
   "file_extension": ".py",
   "mimetype": "text/x-python",
   "name": "python",
   "nbconvert_exporter": "python",
   "pygments_lexer": "ipython3",
   "version": "3.10.9"
  }
 },
 "nbformat": 4,
 "nbformat_minor": 5
}
